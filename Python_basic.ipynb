{
  "nbformat": 4,
  "nbformat_minor": 0,
  "metadata": {
    "colab": {
      "provenance": []
    },
    "kernelspec": {
      "name": "python3",
      "display_name": "Python 3"
    },
    "language_info": {
      "name": "python"
    }
  },
  "cells": [
    {
      "cell_type": "markdown",
      "source": [
        " Python basic"
      ],
      "metadata": {
        "id": "gqWWpoApnHR7"
      }
    },
    {
      "cell_type": "markdown",
      "source": [
        "1. What is Python, and why is it popular ?\n",
        "\n",
        "  ->  Python is a high-level, versatile programming language known for its readability and ease of use. It's popular for web development, data science, machine learning, and scripting due to its simple syntax, extensive libraries, and strong community support. Python's versatility makes it a favorite among both beginners and experienced programmers across various disciplines"
      ],
      "metadata": {
        "id": "MWTevmsXnLkD"
      }
    },
    {
      "cell_type": "markdown",
      "source": [
        "2. What is an interpreter in python?\n",
        "  \n",
        "  -> Python code (.py) is not compiled into machine code directly . Insted ,it is interpreterd by the Python interpreter"
      ],
      "metadata": {
        "id": "kVX6CWxKsfSd"
      }
    },
    {
      "cell_type": "markdown",
      "source": [
        "3. What are pre-defined keywords in python?\n",
        "  \n",
        "  -> Kewords are pre-defined words that hold a special meaning and have specific purpose in puthon\n",
        "  \n",
        "   like - if , elif ,else , False , class ,finally  ,  is , return ,continue , broke ."
      ],
      "metadata": {
        "id": "eLjU380ZunDt"
      }
    },
    {
      "cell_type": "markdown",
      "source": [
        "4.Can keywords be used as  variable names ?\n",
        "  \n",
        "  ->No, keywords cannot be used as variable names in Python. Python keywords are reserved words that have special meanings and are integral to the syntax and structure of the language. They are recognized by the Python interpreter and serve specific purposes, such as defining control flow, data types, or program structure."
      ],
      "metadata": {
        "id": "CjwtcPEiwWqN"
      }
    },
    {
      "cell_type": "markdown",
      "source": [
        "5.What is mutability in Python ?\n",
        "\n",
        "  ->Objects/Container whose state or value can be changed after they are created are called as mutable objects or container"
      ],
      "metadata": {
        "id": "hw5JGxQkwpUw"
      }
    },
    {
      "cell_type": "markdown",
      "source": [
        "6.Why are lists mutable, but tuples are immutable ?\n",
        "\n",
        "  -> List is type of mutable object supports item assingment. Tuples is a type of immutable object doesn't support item assignment"
      ],
      "metadata": {
        "id": "IZXrr74rxNaX"
      }
    },
    {
      "cell_type": "markdown",
      "source": [
        "7.What is the difference between “==” and “is” operators in Python ?\n",
        "\n",
        "  -> In Python, the == and is operators are used for comparison, but they serve distinct purposes:\n",
        "== (Equality Operator):\n",
        "Compares the values of two objects.\n",
        "Evaluates whether the content or data represented by the objects is the same.\n",
        "For custom classes, the behavior of == can be defined by implementing the __eq__ method.\n",
        "is (Identity Operator):\n",
        "Compares the identity of two objects.\n",
        "Checks whether two variables refer to the exact same object in memory.\n",
        "Returns True if both variables point to the same memory address, and False otherwise.\n",
        "This is equivalent to checking if id(object1) == id(object2)."
      ],
      "metadata": {
        "id": "sIsKokuT3Bnx"
      }
    },
    {
      "cell_type": "markdown",
      "source": [
        "8.What are logical operators in Python ?\n",
        "\n",
        "  -> Logical operators in Python are used to combine conditional statements and evaluate expressions based on their truth values (True or False). They are crucial for creating complex decision-making logic within programs."
      ],
      "metadata": {
        "id": "mzSkdrfN4fER"
      }
    },
    {
      "cell_type": "markdown",
      "source": [
        "9.What is type casting in Python ?\n",
        "\n",
        "  -> The process of changing the data type of a value . While executing computation using operators , there can be mismatch between the datatype."
      ],
      "metadata": {
        "id": "7AaiQi_95D9c"
      }
    },
    {
      "cell_type": "markdown",
      "source": [
        "10.What is the difference between implicit and explicit type casting ?\n",
        "\n",
        "  -> Implicit Type Casting (Coercion):\n",
        "This conversion is performed automatically by the Python interpreter when operations involve different data types.\n",
        "Python prioritizes preventing data loss during implicit conversion, typically converting to the \"higher\" data type (e.g., int to float).\n",
        "  -\n",
        "  >Explicit Type Casting (Type Casting):\n",
        "This conversion is performed explicitly by the programmer using built-in type conversion functions.\n",
        "It allows for conversion to a specific data type, even if it might result in data loss (e.g., converting a float to an int truncates the decimal part)."
      ],
      "metadata": {
        "id": "DCA3t-Vh6_ZY"
      }
    },
    {
      "cell_type": "markdown",
      "source": [
        " 11.What is the purpose of conditional statements in Python ?\n",
        "\n",
        "  ->The purpose of conditional statements in Python  is helps you to code decisions based on some pre-conditions ."
      ],
      "metadata": {
        "id": "c8wTodSc8Mu_"
      }
    },
    {
      "cell_type": "markdown",
      "source": [
        "12.How does the elif statement work ?\n",
        "\n",
        "  -> The elif statement in Python, short for \"else if,\" allows for the evaluation of multiple conditions in a sequential manner. It is always used in conjunction with an if statement and can be followed by an optional else statement.\n",
        "  \n",
        "Here's how it works:\n",
        "Initial if check:\n",
        "Python first evaluates the condition of the if statement.\n",
        "If the if condition is True, the code block associated with the if statement is executed, and the entire if-elif-else block is exited."
      ],
      "metadata": {
        "id": "Q7LcQvp78vub"
      }
    },
    {
      "cell_type": "markdown",
      "source": [
        "13.What is the difference between for and while loops ?\n",
        "   \n",
        "   -> For loops iterating over a sequence of elements, while loops repeatedly executed a block of code untill a condition is met ."
      ],
      "metadata": {
        "id": "-oVsu-iK-Shn"
      }
    },
    {
      "cell_type": "markdown",
      "source": [
        "14.Describe a scenario where a while loop is more suitable than a for loop ?\n",
        "\n",
        "  -> When assigning values in a Python program, a while loop is generally more suitable than a for loop in situations where:\n",
        "1. The Number of Iterations is Unknown in Advance (Conditional Termination)\n",
        "\n",
        "Scenario: Imagine you're writing a guessing game where the user needs to guess a secret number. You don't know how many attempts it will take for the user to guess correctly.\n",
        "\n",
        "While Loop Advantage: A while loop can be used to repeatedly prompt the user for input as long as their guess doesn't match the secret number. The loop continues until the condition (guess != secret_number) becomes false, meaning the correct number has been guessed.\n",
        "\n",
        "Why a for loop isn't ideal: A for loop would require specifying a predetermined number of iterations, which doesn't fit the dynamic nature of a guessing game where the number of guesses is unpredictable.\n",
        "Here's an example:"
      ],
      "metadata": {
        "id": "59X10P3yAse-"
      }
    },
    {
      "cell_type": "markdown",
      "source": [
        "**Practical Questions**"
      ],
      "metadata": {
        "id": "ofMjc9HIJgN8"
      }
    },
    {
      "cell_type": "code",
      "source": [
        "1#Write a Python program to print \"Hello, World!y\n",
        "print(\"Hello,world\")"
      ],
      "metadata": {
        "colab": {
          "base_uri": "https://localhost:8080/"
        },
        "id": "OYz0xNYcJmXd",
        "outputId": "647d3861-23a4-4eb0-aa26-ea3e4f77c485"
      },
      "execution_count": 1,
      "outputs": [
        {
          "output_type": "stream",
          "name": "stdout",
          "text": [
            "Hello,world\n"
          ]
        }
      ]
    },
    {
      "cell_type": "code",
      "source": [
        "2#Write a Python program that displays your name and age.\n",
        "name = input (\"enter you name\")\n",
        "age = input (\"enter you age\")\n",
        "print(f\"Hello, my name is {name} and I am {age} years old.\")"
      ],
      "metadata": {
        "colab": {
          "base_uri": "https://localhost:8080/"
        },
        "id": "5Dm6tmkZJ8fL",
        "outputId": "10ff67ee-b74a-4489-d459-4348b5e83987"
      },
      "execution_count": 5,
      "outputs": [
        {
          "output_type": "stream",
          "name": "stdout",
          "text": [
            "enter you name Aalekhit Sharma\n",
            "enter you age 18\n",
            "Hello, my name is  Aalekhit Sharma and I am  18 years old.\n"
          ]
        }
      ]
    },
    {
      "cell_type": "code",
      "source": [
        "# Write code to print all the pre-defined keywords in Python using the keyword library.\n",
        "import keyword\n",
        "print(keyword.kwlist)"
      ],
      "metadata": {
        "colab": {
          "base_uri": "https://localhost:8080/"
        },
        "id": "dDtqV1tALGzx",
        "outputId": "6b9413c6-6f47-4069-bcc7-696d05e4e92f"
      },
      "execution_count": 19,
      "outputs": [
        {
          "output_type": "stream",
          "name": "stdout",
          "text": [
            "['False', 'None', 'True', 'and', 'as', 'assert', 'async', 'await', 'break', 'class', 'continue', 'def', 'del', 'elif', 'else', 'except', 'finally', 'for', 'from', 'global', 'if', 'import', 'in', 'is', 'lambda', 'nonlocal', 'not', 'or', 'pass', 'raise', 'return', 'try', 'while', 'with', 'yield']\n"
          ]
        }
      ]
    },
    {
      "cell_type": "code",
      "source": [
        "#Write a program that checks if a given word is a Python keyword.\n",
        "import keyword\n",
        "\n",
        "def is_python_keyword(word):\n",
        "   return keyword.iskeyword(word)\n",
        "word_to_check = input(\"Enter a word: \")\n",
        "\n",
        "if is_python_keyword(word_to_check):\n",
        "  print(f\"'{word_to_check}' is a Python keyword.\")\n",
        "else:\n",
        "  print(f\"'{word_to_check}' is not a Python keyword.\")\n"
      ],
      "metadata": {
        "colab": {
          "base_uri": "https://localhost:8080/"
        },
        "id": "jdGnGUzOJ1vW",
        "outputId": "6fa5ec13-b157-439d-e800-604451563ba6"
      },
      "execution_count": 20,
      "outputs": [
        {
          "output_type": "stream",
          "name": "stdout",
          "text": [
            "Enter a word: if\n",
            "'if' is a Python keyword.\n"
          ]
        }
      ]
    },
    {
      "cell_type": "code",
      "execution_count": 24,
      "metadata": {
        "colab": {
          "base_uri": "https://localhost:8080/"
        },
        "id": "aJHmY8gsmgPZ",
        "outputId": "0926c0ea-cb3e-48e2-977c-7deab68ea38b"
      },
      "outputs": [
        {
          "output_type": "stream",
          "name": "stdout",
          "text": [
            "Original list: [10, 20, 30, 40]\n",
            "Modified list: [10, 25, 30, 40]\n",
            "Original tuple: (100, 200, 300, 400)\n",
            "Error when attempting to modify tuple: 'tuple' object does not support item assignment\n"
          ]
        }
      ],
      "source": [
        " #Create a list and tuple in Python, and demonstrate how attempting to change an element works differently for each.\n",
        " my_list = [10, 20, 30, 40]\n",
        "print(f\"Original list: {my_list}\")\n",
        "\n",
        "# Attempt to change an element in the list\n",
        "my_list[1] = 25\n",
        "print(f\"Modified list: {my_list}\")\n",
        "# Create a tuple\n",
        "my_tuple = (100, 200, 300, 400)\n",
        "print(f\"Original tuple: {my_tuple}\")\n",
        "\n",
        "# Attempt to change an element in the tuple (this will raise an error)\n",
        "try:\n",
        "    my_tuple[1] = 250\n",
        "except TypeError as e:\n",
        "    print(f\"Error when attempting to modify tuple: {e}\")"
      ]
    },
    {
      "cell_type": "code",
      "source": [
        "# Write a function to demonstrate the behavior of mutable and immutable arguments\n",
        "# Mutable argument example (list)\n",
        "my_list = [1, 2, 3]\n",
        "print(f\"Outside function: Original list ID: {id(my_list)}\")\n",
        "print(f\"Outside function: Original list content: {my_list}\")\n",
        "demonstrate_mutable_argument(my_list)\n",
        "print(f\"Outside function: After function call, list ID: {id(my_list)}\")\n",
        "print(f\"Outside function: After function call, list content: {my_list}\\n\")\n",
        "\n",
        "# Immutable argument example (integer)\n",
        "my_int = 10\n",
        "print(f\"Outside function: Original integer ID: {id(my_int)}\")\n",
        "print(f\"Outside function: Original integer content: {my_int}\")\n",
        "demonstrate_immutable_argument(my_int)\n",
        "print(f\"Outside function: After function call, integer ID: {id(my_int)}\")\n",
        "print(f\"Outside function: After function call, integer content: {my_int}\")"
      ],
      "metadata": {
        "colab": {
          "base_uri": "https://localhost:8080/"
        },
        "id": "NUsVJyiFQ9-1",
        "outputId": "78c186a6-2f75-48bb-9dde-9434b7ad13ac"
      },
      "execution_count": 27,
      "outputs": [
        {
          "output_type": "stream",
          "name": "stdout",
          "text": [
            "Outside function: Original list ID: 138271814424640\n",
            "Outside function: Original list content: [1, 2, 3]\n",
            "Inside function: original list ID: 138271814424640\n",
            "Inside function: modified list ID: 138271814424640\n",
            "Inside function: modified list content: [1, 2, 3, 4]\n",
            "Outside function: After function call, list ID: 138271814424640\n",
            "Outside function: After function call, list content: [1, 2, 3, 4]\n",
            "\n",
            "Outside function: Original integer ID: 10758024\n",
            "Outside function: Original integer content: 10\n",
            "Inside function: original integer ID: 10758024\n",
            "Inside function: modified integer ID: 10758056\n",
            "Inside function: modified integer content: 11\n",
            "Outside function: After function call, integer ID: 10758024\n",
            "Outside function: After function call, integer content: 10\n"
          ]
        }
      ]
    },
    {
      "cell_type": "code",
      "source": [
        "#Write a program that performs basic arithmetic operations on two user-input numbers.\n",
        "a = 6\n",
        "b = 7\n",
        "a+b"
      ],
      "metadata": {
        "colab": {
          "base_uri": "https://localhost:8080/"
        },
        "id": "5iH3lLuyXi5n",
        "outputId": "ad03e9df-08be-4d7b-f203-5d489a2fd637"
      },
      "execution_count": 28,
      "outputs": [
        {
          "output_type": "execute_result",
          "data": {
            "text/plain": [
              "13"
            ]
          },
          "metadata": {},
          "execution_count": 28
        }
      ]
    },
    {
      "cell_type": "code",
      "source": [
        "#Write a program to demonstrate the use of logical operators.\n",
        "('true'and'false')"
      ],
      "metadata": {
        "colab": {
          "base_uri": "https://localhost:8080/",
          "height": 35
        },
        "id": "iul7ZOpIX2Ja",
        "outputId": "cac099ac-b44f-4048-81a0-4c7dde12df3a"
      },
      "execution_count": 30,
      "outputs": [
        {
          "output_type": "execute_result",
          "data": {
            "text/plain": [
              "'false'"
            ],
            "application/vnd.google.colaboratory.intrinsic+json": {
              "type": "string"
            }
          },
          "metadata": {},
          "execution_count": 30
        }
      ]
    },
    {
      "cell_type": "code",
      "source": [
        " #Write code to demonstrate type casting with list elements.\n",
        "my_liat = [1,2,3,4,5]\n",
        "str(my_list)"
      ],
      "metadata": {
        "colab": {
          "base_uri": "https://localhost:8080/",
          "height": 35
        },
        "id": "0k3ieWmtYhGo",
        "outputId": "9d35e3d3-9a81-4fa4-db0d-629ed7ccbcdc"
      },
      "execution_count": 44,
      "outputs": [
        {
          "output_type": "execute_result",
          "data": {
            "text/plain": [
              "'[1, 2, 3]'"
            ],
            "application/vnd.google.colaboratory.intrinsic+json": {
              "type": "string"
            }
          },
          "metadata": {},
          "execution_count": 44
        }
      ]
    },
    {
      "cell_type": "code",
      "source": [
        "#Write a program that checks if a number is positive, negative, or zero.\n",
        "def check_number_sign(number):\n",
        "  if number > 0:\n",
        "    return \"positive\"\n",
        "  elif number < 0:\n",
        "    return \"negative\"\n",
        "  else:\n",
        "    return \"zero\"\n",
        "\n",
        "num1 = 10\n",
        "num2 = -5\n",
        "num3 = 0\n",
        "\n",
        "print(f\"The number {num1} is {check_number_sign(num1)}.\")\n",
        "print(f\"The number {num2} is {check_number_sign(num2)}.\")\n",
        "print(f\"The number {num3} is {check_number_sign(num3)}.\")"
      ],
      "metadata": {
        "colab": {
          "base_uri": "https://localhost:8080/"
        },
        "id": "yH5ibp09bC0Q",
        "outputId": "9393ed29-2004-4936-fae7-d682c873098e"
      },
      "execution_count": 47,
      "outputs": [
        {
          "output_type": "stream",
          "name": "stdout",
          "text": [
            "The number 10 is positive.\n",
            "The number -5 is negative.\n",
            "The number 0 is zero.\n"
          ]
        }
      ]
    },
    {
      "cell_type": "code",
      "source": [
        "# Write a for loop to print numbers from 1 to 10.\n",
        "for i in range(1,11):\n",
        "  print(i)"
      ],
      "metadata": {
        "colab": {
          "base_uri": "https://localhost:8080/"
        },
        "id": "tGxBzKUgdafq",
        "outputId": "38457414-0bf9-4cd3-d5cf-8be13324b81a"
      },
      "execution_count": 48,
      "outputs": [
        {
          "output_type": "stream",
          "name": "stdout",
          "text": [
            "1\n",
            "2\n",
            "3\n",
            "4\n",
            "5\n",
            "6\n",
            "7\n",
            "8\n",
            "9\n",
            "10\n"
          ]
        }
      ]
    },
    {
      "cell_type": "code",
      "source": [
        "#Write a Python program to find the sum of all even numbers between 1 and 50.\n",
        "total_sum = 0\n",
        "for number in range(1,51):\n",
        "  if number % 2 == 0:\n",
        "    total_sum += number\n",
        "    print(f\"the sum all even number between 1,50 is:{total_sum}\")\n",
        "\n"
      ],
      "metadata": {
        "colab": {
          "base_uri": "https://localhost:8080/"
        },
        "id": "qa28kjWud8Jr",
        "outputId": "bbd77376-7c3b-47b4-a7f8-27aaad84045d"
      },
      "execution_count": 53,
      "outputs": [
        {
          "output_type": "stream",
          "name": "stdout",
          "text": [
            "the sum all even number between 1,50 is:2\n",
            "the sum all even number between 1,50 is:6\n",
            "the sum all even number between 1,50 is:12\n",
            "the sum all even number between 1,50 is:20\n",
            "the sum all even number between 1,50 is:30\n",
            "the sum all even number between 1,50 is:42\n",
            "the sum all even number between 1,50 is:56\n",
            "the sum all even number between 1,50 is:72\n",
            "the sum all even number between 1,50 is:90\n",
            "the sum all even number between 1,50 is:110\n",
            "the sum all even number between 1,50 is:132\n",
            "the sum all even number between 1,50 is:156\n",
            "the sum all even number between 1,50 is:182\n",
            "the sum all even number between 1,50 is:210\n",
            "the sum all even number between 1,50 is:240\n",
            "the sum all even number between 1,50 is:272\n",
            "the sum all even number between 1,50 is:306\n",
            "the sum all even number between 1,50 is:342\n",
            "the sum all even number between 1,50 is:380\n",
            "the sum all even number between 1,50 is:420\n",
            "the sum all even number between 1,50 is:462\n",
            "the sum all even number between 1,50 is:506\n",
            "the sum all even number between 1,50 is:552\n",
            "the sum all even number between 1,50 is:600\n",
            "the sum all even number between 1,50 is:650\n"
          ]
        }
      ]
    },
    {
      "cell_type": "code",
      "source": [
        "# Write a program to reverse a string using a while loop\n",
        "def reverse_string_while_loop(input_str):\n",
        "  reversed_str = \"\"\n",
        "  index = len(input_str) - 1\n",
        "  while index >= 0:\n",
        "    reversed_str += input_str[index]\n",
        "    index -= 1\n",
        "  return reversed_str\n",
        "\n",
        "original_str = \"Hello World\"\n",
        "reversed_str = reverse_string_while_loop(original_str)\n",
        "print(f\"Original string: {original_str}\")\n",
        "print(f\"Reversed string: {reversed_str}\")\n",
        "\n",
        "original_str_2 = \"Python\"\n",
        "reversed_str_2 = reverse_string_while_loop(original_str_2)\n",
        "print(f\"Original string: {original_str_2}\")\n",
        "print(f\"Reversed string: {reversed_str_2}\")"
      ],
      "metadata": {
        "colab": {
          "base_uri": "https://localhost:8080/"
        },
        "id": "968qMSfxgf-R",
        "outputId": "89c42237-a4da-4b43-d0f9-0076460e8bb8"
      },
      "execution_count": 55,
      "outputs": [
        {
          "output_type": "stream",
          "name": "stdout",
          "text": [
            "Original string: Hello World\n",
            "Reversed string: dlroW olleH\n",
            "Original string: Python\n",
            "Reversed string: nohtyP\n"
          ]
        }
      ]
    },
    {
      "cell_type": "code",
      "source": [
        "# Write a Python program to calculate the factorial of a number provided by the user using a while loop.\n",
        "def calculate_factorial(number):\n",
        "    if number < 0:\n",
        "          return \"Factorial is not defined for negative numbers.\"\n",
        "    elif number == 0:\n",
        "        return 1\n",
        "    else:\n",
        "        factorial = 1\n",
        "        i = 1\n",
        "        while i <= number:\n",
        "            factorial *= i\n",
        "            i += 1\n",
        "        return factorial\n",
        "\n",
        "try:\n",
        "    num = int(input(\"Enter a non-negative integer: \"))\n",
        "    result = calculate_factorial(num)\n",
        "    print(f\"The factorial of {num} is: {result}\")\n",
        "except ValueError:\n",
        "    print(\"Invalid input. Please enter an integer.\")"
      ],
      "metadata": {
        "colab": {
          "base_uri": "https://localhost:8080/"
        },
        "id": "MYS39ellh5tK",
        "outputId": "0e4e0b59-00ae-475c-8447-e64797836c3a"
      },
      "execution_count": 60,
      "outputs": [
        {
          "output_type": "stream",
          "name": "stdout",
          "text": [
            "Enter a non-negative integer: 7\n",
            "The factorial of 7 is: 5040\n"
          ]
        }
      ]
    },
    {
      "cell_type": "markdown",
      "source": [],
      "metadata": {
        "id": "2XydhQ7LsYPO"
      }
    }
  ]
}